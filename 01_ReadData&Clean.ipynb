{
 "cells": [
  {
   "metadata": {
    "ExecuteTime": {
     "end_time": "2024-12-10T12:10:18.828418Z",
     "start_time": "2024-12-10T12:10:18.811476Z"
    }
   },
   "cell_type": "code",
   "source": [
    "import json\n",
    "import pdfplumber\n",
    "import os\n",
    "from tqdm import tqdm\n",
    "\n",
    "resources_path = os.getcwd() + '\\\\resources\\\\'\n",
    "\n",
    "# 数据清洗\n",
    "def clean_content(content):\n",
    "    content = content.replace('\\n', '').replace('\\t', '').replace('\\r', '').replace(' ', '').replace('.', '').replace('\\\"', '').replace('■', '')\n",
    "    return content"
   ],
   "id": "f35718c3460f9ff3",
   "outputs": [],
   "execution_count": 43
  },
  {
   "metadata": {
    "ExecuteTime": {
     "end_time": "2024-12-10T12:10:27.801058Z",
     "start_time": "2024-12-10T12:10:20.076718Z"
    }
   },
   "cell_type": "code",
   "source": [
    "# 读取pdf\n",
    "pdf = pdfplumber.open(resources_path + \"汽车数据.pdf\")\n",
    "\n",
    "# 读取所有页内容\n",
    "pdf_content = []\n",
    "for page_idx in tqdm(range(len(pdf.pages))):\n",
    "    pdf_content.append({\n",
    "        'page': 'page_' + str(page_idx + 1),\n",
    "        'content': clean_content(pdf.pages[page_idx].extract_text())\n",
    "    })\n",
    "    \n",
    "# 保存成json文件\n",
    "json.dump(pdf_content, open(resources_path + \"pdf_content.json\", 'w', encoding='utf-8'), ensure_ascii=False)"
   ],
   "id": "1fa01308b1209adc",
   "outputs": [
    {
     "name": "stderr",
     "output_type": "stream",
     "text": [
      "100%|██████████| 354/354 [00:07<00:00, 49.06it/s]\n"
     ]
    }
   ],
   "execution_count": 44
  }
 ],
 "metadata": {
  "kernelspec": {
   "display_name": "Python 3",
   "language": "python",
   "name": "python3"
  },
  "language_info": {
   "codemirror_mode": {
    "name": "ipython",
    "version": 2
   },
   "file_extension": ".py",
   "mimetype": "text/x-python",
   "name": "python",
   "nbconvert_exporter": "python",
   "pygments_lexer": "ipython2",
   "version": "2.7.6"
  }
 },
 "nbformat": 4,
 "nbformat_minor": 5
}
