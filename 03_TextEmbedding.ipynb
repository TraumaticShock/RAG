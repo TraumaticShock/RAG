{
 "cells": [
  {
   "cell_type": "code",
   "id": "initial_id",
   "metadata": {
    "collapsed": true,
    "ExecuteTime": {
     "end_time": "2024-12-10T13:24:39.991070Z",
     "start_time": "2024-12-10T13:24:34.487999Z"
    }
   },
   "source": [
    "from sentence_transformers import SentenceTransformer\n",
    "from tqdm import tqdm\n",
    "import numpy as np\n",
    "import os\n",
    "import json\n",
    "\n",
    "resources_path = os.getcwd() + '\\\\resources\\\\'\n",
    "modes_path = resources_path + 'Models\\\\'"
   ],
   "outputs": [],
   "execution_count": 1
  },
  {
   "metadata": {
    "ExecuteTime": {
     "end_time": "2024-12-10T13:12:52.259751Z",
     "start_time": "2024-12-10T13:12:46.619239Z"
    }
   },
   "cell_type": "code",
   "source": [
    "# 模型加载\n",
    "model_name = \"moka-ai/m3e-base\"\n",
    "model = SentenceTransformer(model_name)\n",
    "model.save(modes_path + \"\\\\m3e-base\\\\\")"
   ],
   "id": "9e02e62364db9b75",
   "outputs": [
    {
     "data": {
      "text/plain": [
       "modules.json:   0%|          | 0.00/229 [00:00<?, ?B/s]"
      ],
      "application/vnd.jupyter.widget-view+json": {
       "version_major": 2,
       "version_minor": 0,
       "model_id": "6d6a83fdb41a4ae2804cead47485cc36"
      }
     },
     "metadata": {},
     "output_type": "display_data"
    },
    {
     "name": "stderr",
     "output_type": "stream",
     "text": [
      "C:\\Users\\pengx\\.conda\\envs\\RAG\\lib\\site-packages\\huggingface_hub\\file_download.py:139: UserWarning: `huggingface_hub` cache-system uses symlinks by default to efficiently store duplicated files but your machine does not support them in C:\\Users\\pengx\\.cache\\huggingface\\hub\\models--moka-ai--m3e-base. Caching files will still work but in a degraded version that might require more space on your disk. This warning can be disabled by setting the `HF_HUB_DISABLE_SYMLINKS_WARNING` environment variable. For more details, see https://huggingface.co/docs/huggingface_hub/how-to-cache#limitations.\n",
      "To support symlinks on Windows, you either need to activate Developer Mode or to run Python as an administrator. In order to activate developer mode, see this article: https://docs.microsoft.com/en-us/windows/apps/get-started/enable-your-device-for-development\n",
      "  warnings.warn(message)\n"
     ]
    },
    {
     "data": {
      "text/plain": [
       "README.md:   0%|          | 0.00/26.6k [00:00<?, ?B/s]"
      ],
      "application/vnd.jupyter.widget-view+json": {
       "version_major": 2,
       "version_minor": 0,
       "model_id": "2686b1425d474cb08d04681206b98411"
      }
     },
     "metadata": {},
     "output_type": "display_data"
    },
    {
     "data": {
      "text/plain": [
       "sentence_bert_config.json:   0%|          | 0.00/53.0 [00:00<?, ?B/s]"
      ],
      "application/vnd.jupyter.widget-view+json": {
       "version_major": 2,
       "version_minor": 0,
       "model_id": "a373e28bcb2e4ac6a44837f843aca521"
      }
     },
     "metadata": {},
     "output_type": "display_data"
    },
    {
     "data": {
      "text/plain": [
       "1_Pooling/config.json:   0%|          | 0.00/190 [00:00<?, ?B/s]"
      ],
      "application/vnd.jupyter.widget-view+json": {
       "version_major": 2,
       "version_minor": 0,
       "model_id": "81bf1a7866bb4a1b9c397e517fb0ef80"
      }
     },
     "metadata": {},
     "output_type": "display_data"
    }
   ],
   "execution_count": 3
  },
  {
   "metadata": {
    "ExecuteTime": {
     "end_time": "2024-12-10T13:24:45.007562Z",
     "start_time": "2024-12-10T13:24:44.996356Z"
    }
   },
   "cell_type": "code",
   "source": [
    "# 提取文本\n",
    "questions = json.load(open(resources_path + \"questions.json\", \"r\", encoding=\"utf-8\"))\n",
    "pdf_content = json.load(open(resources_path + \"pdf_content.json\", \"r\", encoding=\"utf-8\"))\n",
    "question_sentences = [x['question'] for x in questions]\n",
    "pdf_content_sentences = [x['content'] for x in pdf_content]"
   ],
   "id": "21a855ebdc41c284",
   "outputs": [],
   "execution_count": 2
  },
  {
   "metadata": {
    "ExecuteTime": {
     "end_time": "2024-12-10T13:26:21.623222Z",
     "start_time": "2024-12-10T13:24:45.923147Z"
    }
   },
   "cell_type": "code",
   "source": [
    "# 加载模型\n",
    "model = SentenceTransformer(modes_path + \"m3e-base\")\n",
    "\n",
    "# 计算嵌入向量（带进度条）\n",
    "question_embeddings = model.encode(question_sentences, normalize_embeddings=True, show_progress_bar=True)\n",
    "pdf_embeddings = model.encode(pdf_content_sentences, normalize_embeddings=True, show_progress_bar=True)\n",
    "\n",
    "# 转换为numpy数组\n",
    "question_embeddings = np.array(question_embeddings)\n",
    "pdf_embeddings = np.array(pdf_embeddings)\n",
    "\n",
    "# 计算相似度\n",
    "for query_idx, feat in enumerate(question_embeddings):\n",
    "    score = feat @ pdf_embeddings.T\n",
    "    max_score_page_idx = score.argsort()[-1] + 1\n",
    "    questions[query_idx]['reference'] = 'page_' + str(max_score_page_idx)\n",
    "\n",
    "# 保存答案\n",
    "with open(resources_path + 'answer.json', 'w', encoding='utf8') as up:\n",
    "    json.dump(questions, up, ensure_ascii=False, indent=4)"
   ],
   "id": "42e95946aa068f02",
   "outputs": [
    {
     "data": {
      "text/plain": [
       "Batches:   0%|          | 0/10 [00:00<?, ?it/s]"
      ],
      "application/vnd.jupyter.widget-view+json": {
       "version_major": 2,
       "version_minor": 0,
       "model_id": "e85100f7b8c44985ac39d42ac569b0f6"
      }
     },
     "metadata": {},
     "output_type": "display_data"
    },
    {
     "data": {
      "text/plain": [
       "Batches:   0%|          | 0/12 [00:00<?, ?it/s]"
      ],
      "application/vnd.jupyter.widget-view+json": {
       "version_major": 2,
       "version_minor": 0,
       "model_id": "5fe83db139914d18a10b1fdd015342a5"
      }
     },
     "metadata": {},
     "output_type": "display_data"
    }
   ],
   "execution_count": 3
  },
  {
   "metadata": {
    "ExecuteTime": {
     "end_time": "2024-12-10T13:31:29.711140Z",
     "start_time": "2024-12-10T13:31:29.704693Z"
    }
   },
   "cell_type": "code",
   "source": "question_embeddings.shape",
   "id": "121f67cf4d7a05a",
   "outputs": [
    {
     "data": {
      "text/plain": [
       "(301, 768)"
      ]
     },
     "execution_count": 6,
     "metadata": {},
     "output_type": "execute_result"
    }
   ],
   "execution_count": 6
  },
  {
   "metadata": {
    "ExecuteTime": {
     "end_time": "2024-12-10T13:29:53.596300Z",
     "start_time": "2024-12-10T13:29:53.590536Z"
    }
   },
   "cell_type": "code",
   "source": "pdf_embeddings.shape",
   "id": "6e18af48dca1ba38",
   "outputs": [
    {
     "data": {
      "text/plain": [
       "(354, 768)"
      ]
     },
     "execution_count": 4,
     "metadata": {},
     "output_type": "execute_result"
    }
   ],
   "execution_count": 4
  }
 ],
 "metadata": {
  "kernelspec": {
   "display_name": "Python 3",
   "language": "python",
   "name": "python3"
  },
  "language_info": {
   "codemirror_mode": {
    "name": "ipython",
    "version": 2
   },
   "file_extension": ".py",
   "mimetype": "text/x-python",
   "name": "python",
   "nbconvert_exporter": "python",
   "pygments_lexer": "ipython2",
   "version": "2.7.6"
  }
 },
 "nbformat": 4,
 "nbformat_minor": 5
}
