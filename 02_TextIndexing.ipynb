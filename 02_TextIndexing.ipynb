{
 "cells": [
  {
   "cell_type": "code",
   "id": "initial_id",
   "metadata": {
    "collapsed": true,
    "ExecuteTime": {
     "end_time": "2024-12-10T12:40:29.481976Z",
     "start_time": "2024-12-10T12:40:28.934076Z"
    }
   },
   "source": [
    "from elasticsearch import Elasticsearch\n",
    "from elasticsearch.helpers import bulk\n",
    "import json\n",
    "import os\n",
    "import warnings\n",
    "\n",
    "warnings.filterwarnings('ignore')\n",
    "\n",
    "resources_path = os.getcwd() + '\\\\resources\\\\'\n",
    "\n",
    "# 创建 Elasticsearch 客户端\n",
    "es = Elasticsearch(\n",
    "    hosts=[\"https://localhost:9200\"],\n",
    "    basic_auth=(\"elastic\", \"ibE1c9HRaE_YShrDD19y\"),\n",
    "    verify_certs=False\n",
    ")"
   ],
   "outputs": [],
   "execution_count": 1
  },
  {
   "metadata": {
    "ExecuteTime": {
     "end_time": "2024-12-10T12:40:30.745182Z",
     "start_time": "2024-12-10T12:40:30.247419Z"
    }
   },
   "cell_type": "code",
   "source": [
    "# 加载文本数据\n",
    "pdf_content = json.load(open(resources_path + \"pdf_content.json\", \"r\", encoding=\"utf-8\"))\n",
    "index_name = \"car_pdf_content\"\n",
    "actions = [\n",
    "    {\n",
    "        \"_index\": index_name,\n",
    "        \"_source\": item\n",
    "    }\n",
    "    for item in pdf_content\n",
    "]\n",
    "\n",
    "if not es.indices.exists(index=index_name):\n",
    "    es.indices.create(index=index_name)\n",
    "else:\n",
    "    es.indices.delete(index=index_name)\n",
    "    es.indices.create(index=index_name)"
   ],
   "id": "82dcc537e915ae0",
   "outputs": [],
   "execution_count": 2
  },
  {
   "metadata": {
    "ExecuteTime": {
     "end_time": "2024-12-10T12:40:31.568903Z",
     "start_time": "2024-12-10T12:40:31.404698Z"
    }
   },
   "cell_type": "code",
   "source": [
    "# 批量插入数据\n",
    "response = bulk(es, actions)\n",
    "print(\"Bulk insert response:\", response)"
   ],
   "id": "233d296b5ba5454a",
   "outputs": [
    {
     "name": "stdout",
     "output_type": "stream",
     "text": [
      "Bulk insert response: (354, [])\n"
     ]
    }
   ],
   "execution_count": 3
  },
  {
   "metadata": {
    "ExecuteTime": {
     "end_time": "2024-12-10T12:41:20.328152Z",
     "start_time": "2024-12-10T12:41:20.306462Z"
    }
   },
   "cell_type": "code",
   "source": [
    "# 查询文档数量\n",
    "response = es.count(index=index_name)\n",
    "# 输出文档数量\n",
    "print(response['count'])"
   ],
   "id": "48efa3ae7337abb0",
   "outputs": [
    {
     "name": "stdout",
     "output_type": "stream",
     "text": [
      "354\n"
     ]
    }
   ],
   "execution_count": 5
  },
  {
   "metadata": {},
   "cell_type": "code",
   "outputs": [],
   "execution_count": null,
   "source": [
    "# 查询\n",
    "response = es.search(index=index_name, body={\n",
    "    \"query\": {\n",
    "        \"match_all\": {}\n",
    "    }\n",
    "})\n",
    "\n",
    "# 输出查询结果\n",
    "print(response['hits']['hits'])"
   ],
   "id": "4eca98d2185d13b1"
  },
  {
   "metadata": {},
   "cell_type": "markdown",
   "source": "# ES默认使用BM25",
   "id": "611b150a0c13863"
  }
 ],
 "metadata": {
  "kernelspec": {
   "display_name": "Python 3",
   "language": "python",
   "name": "python3"
  },
  "language_info": {
   "codemirror_mode": {
    "name": "ipython",
    "version": 2
   },
   "file_extension": ".py",
   "mimetype": "text/x-python",
   "name": "python",
   "nbconvert_exporter": "python",
   "pygments_lexer": "ipython2",
   "version": "2.7.6"
  }
 },
 "nbformat": 4,
 "nbformat_minor": 5
}
